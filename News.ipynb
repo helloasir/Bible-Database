{
  "nbformat": 4,
  "nbformat_minor": 0,
  "metadata": {
    "colab": {
      "name": "News.ipynb",
      "provenance": [],
      "collapsed_sections": []
    },
    "kernelspec": {
      "name": "python3",
      "display_name": "Python 3"
    },
    "language_info": {
      "name": "python"
    }
  },
  "cells": [
    {
      "cell_type": "code",
      "execution_count": null,
      "metadata": {
        "colab": {
          "base_uri": "https://localhost:8080/"
        },
        "id": "_ii0qG84IMeN",
        "outputId": "47a71154-293e-4178-d765-bab2737d5a41"
      },
      "outputs": [
        {
          "output_type": "stream",
          "name": "stderr",
          "text": [
            "[nltk_data] Downloading package punkt to /root/nltk_data...\n",
            "[nltk_data]   Unzipping tokenizers/punkt.zip.\n"
          ]
        },
        {
          "output_type": "execute_result",
          "data": {
            "text/plain": [
              "True"
            ]
          },
          "metadata": {},
          "execution_count": 1
        }
      ],
      "source": [
        "from bs4 import BeautifulSoup\n",
        "import requests\n",
        "import nltk\n",
        "import re\n",
        "import pandas as pd\n",
        "nltk.download('punkt')"
      ]
    },
    {
      "cell_type": "code",
      "source": [
        "df = pd.read_csv(\"/content/news.csv\")\n",
        "for index, row in df.iterrows():\n",
        "  url=(row['THE HINDU'])\n",
        "  url"
      ],
      "metadata": {
        "id": "chnYzJDuJY0Q"
      },
      "execution_count": null,
      "outputs": []
    },
    {
      "cell_type": "code",
      "source": [
        "import pandas as pd\n",
        "\n",
        "df = pd.read_csv(\"/content/news.csv\")\n",
        "df1 = df['THE HINDU'].tolist()\n",
        "url = df['THE HINDU'].tolist()\n",
        "news= [] \n",
        "print (df)"
      ],
      "metadata": {
        "id": "wyJP1Z9AJZ1_",
        "colab": {
          "base_uri": "https://localhost:8080/"
        },
        "outputId": "93e5279b-5f20-456f-fb30-c617ac5c10ba"
      },
      "execution_count": null,
      "outputs": [
        {
          "output_type": "stream",
          "name": "stdout",
          "text": [
            "                                            THE HINDU\n",
            "0   https://www.thehindu.com/elections/uttar-prade...\n",
            "1   https://www.thehindu.com/elections/punjab-asse...\n",
            "2   https://www.thehindu.com/elections/uttar-prade...\n",
            "3   https://www.thehindu.com/elections/assembly-el...\n",
            "4   https://www.thehindu.com/news/national/electio...\n",
            "5   https://www.thehindu.com/elections/uttar-prade...\n",
            "6   https://www.thehindu.com/opinion/op-ed/mayawat...\n",
            "7   https://www.thehindu.com/opinion/editorial/lot...\n",
            "8   https://www.thehindu.com/news/national/morning...\n",
            "9   https://www.thehindu.com/news/national/yogi-ad...\n",
            "10  https://www.thehindu.com/news/national/other-s...\n",
            "11  https://www.thehindu.com/news/national/other-s...\n",
            "12  https://www.thehindu.com/news/national/other-s...\n",
            "13  https://www.thehindu.com/news/national/akhiles...\n",
            "14  https://www.thehindu.com/elections/uttar-prade...\n",
            "15  https://www.thehindu.com/opinion/op-ed/the-man...\n",
            "16  https://www.thehindu.com/news/national/crucial...\n",
            "17  https://www.thehindu.com/elections/uttar-prade...\n",
            "18  https://www.thehindu.com/elections/uttar-prade...\n",
            "19  https://www.thehindu.com/elections/uttar-prade...\n"
          ]
        }
      ]
    },
    {
      "cell_type": "code",
      "source": [
        "for urls in url:\n",
        "  paper=  re.findall('^(?:http:\\/\\/|www\\.|https:\\/\\/)([^\\/]+)', urls)\n",
        "  html_content = requests.get(urls).text\n",
        "  soup = BeautifulSoup(html_content, \"html.parser\")\n",
        "\n",
        "  texts = soup.find_all('h1' and 'p')\n",
        "\n",
        "  \n",
        "  for text in texts:\n",
        "    \n",
        "    thehindu= text.get_text().strip().replace( \"© THG PUBLISHING PVT LTD.\" , '').replace(\"Our code of editorial values\", \"\").replace(\"(\", \"\").replace(\")\", \"\")\n",
        "    \n",
        "    news = ' '.join(thehindu.split())\n",
        "    sentance= nltk.sent_tokenize(news)\n",
        "    \n",
        "    for s in sentance:\n",
        "      flag=bool(re.search(\"\\d+\"\"%\", s))\n",
        "      if flag:\n",
        "        out= {'Paper_Name':[paper],'Article':[s]}    \n",
        "        print(out)\n",
        "\n"
      ],
      "metadata": {
        "colab": {
          "base_uri": "https://localhost:8080/"
        },
        "id": "zRAW-MyoJwar",
        "outputId": "612843bd-3995-43c5-861f-d120988efb7b"
      },
      "execution_count": null,
      "outputs": [
        {
          "output_type": "stream",
          "name": "stdout",
          "text": [
            "{'Paper_Name': [['www.thehindu.com']], 'Article': ['The Samajwadi Party SP-Rashtriya Lok Dal RLD alliance has fielded non-Muslim candidates in all six seats of the district, which has around 41% Muslim population.']}\n",
            "{'Paper_Name': [['www.thehindu.com']], 'Article': ['polls was 60.44% as of 5 p.m., the EC said.']}\n",
            "{'Paper_Name': [['www.thehindu.com']], 'Article': ['“The final voter turnout figures, which is expected to cross 80%, will come in only after the postal ballots are taken into account,” said Goa Chief Electoral Officer Kunal.']}\n",
            "{'Paper_Name': [['www.thehindu.com']], 'Article': ['The State had recorded an 82.56% turnout during the 2017 elections.']}\n",
            "{'Paper_Name': [['www.thehindu.com']], 'Article': ['In Uttarakhand, turnout for the 70-seat Assembly elections was around 62.5%, according to a statement by the Chief Electoral Officer’s office.']}\n",
            "{'Paper_Name': [['www.thehindu.com']], 'Article': ['In 2017, the Uttarakhand polls had seen 64.72% turnout.']}\n",
            "{'Paper_Name': [['www.thehindu.com']], 'Article': ['In U.P., the 55 seats that went to polls are mostly located in the Rohilkhand region with a substantial population of Muslims, above the State average of 19.5%.']}\n",
            "{'Paper_Name': [['www.thehindu.com']], 'Article': ['In Goa, Chief Minister Pramod Sawant’s constituency Sanquelim saw the highest voter turnout at 89.64% — a jump of nearly five percentage points since the 2017 Assembly election.']}\n",
            "{'Paper_Name': [['www.thehindu.com']], 'Article': ['The lowest turnout 70.2% was recorded in the Benaulim constituency, said Mr. Kunal, adding that the 19 seats in North Goa recorded a turnout of 79.8% while the 21 Assembly seats in South Goa witnessed a voter turnout of 78.15%.']}\n",
            "{'Paper_Name': [['www.thehindu.com']], 'Article': ['As of Friday, 95.8% of those eligible to vote had received both doses of the vaccine in Goa, 82.39% in Uttarakhand, 45.6% in Punjab, 44.8% in Manipur and 52% in U.P., he said.']}\n",
            "{'Paper_Name': [['www.thehindu.com']], 'Article': ['Mr. Chandra said the EC also reviewed the weekly positivity rate, which was 0.24% in U.P., 1.01% in Uttarakhand, 2.1% in Punjab, 1.1% in Manipur and 13% in Manipur “because of the New Years’ parties by outsiders”, he said.']}\n",
            "{'Paper_Name': [['www.thehindu.com']], 'Article': ['The announcement of polls came on the day the country’s daily positivity rate was 9.28% and active cases stood at 4.72 lakh, according to a Health and Family Welfare Ministry statement.']}\n",
            "{'Paper_Name': [['www.thehindu.com']], 'Article': ['In terms of caste and community, the sharpest gender gap with respect to the BJP can be seen among the upper caste community where women supported the BJP in even greater proportion than the men 90% as opposed to 83%.']}\n",
            "{'Paper_Name': [['www.thehindu.com']], 'Article': ['In Lokniti’s 2017 post-poll survey, 47% of women had said that they had taken someone’s advice before voting.']}\n",
            "{'Paper_Name': [['www.thehindu.com']], 'Article': ['In this election, only 32% did.']}\n",
            "{'Paper_Name': [['www.thehindu.com']], 'Article': ['It is also important to state that in the survey, women respondents were more likely to consider women candidates as being a very important voting consideration than men 47% vs 35% and yet women weren’t attracted towards the Congress which gave 40% tickets to women candidates.']}\n",
            "{'Paper_Name': [['www.thehindu.com']], 'Article': ['The party lost almost 10% of its vote share from 2017 and was reduced to one seat.']}\n",
            "{'Paper_Name': [['www.thehindu.com']], 'Article': ['Even if 50% of the State’s 19.5% Muslims had voted for the BSP, the Hindu voters, especially the Brahmins, who were unhappy with the BJP would have voted for the BSP, she noted.']}\n",
            "{'Paper_Name': [['www.thehindu.com']], 'Article': ['in its national plan cannot be overstated — it contributes 20% of the party’s current strength in the Lok Sabha.']}\n",
            "{'Paper_Name': [['www.thehindu.com']], 'Article': ['\"The party\\'s own assessment of data from the recent polls show that between the 2017 polls and the one in 2022, Congress, BSP and others lost 15% of vote share, and of this only 2.5% came to the BJP; the rest went to Samajwadi Party and its allies.']}\n",
            "{'Paper_Name': [['www.thehindu.com']], 'Article': ['About 110 seats were lost with less than 10% of votes polled, of these 68 were won by the BJP and 33 by SP and its allies, a situation that is worrisome and requires remedy.']}\n",
            "{'Paper_Name': [['www.thehindu.com']], 'Article': ['This was our first Assembly election in Uttarakhand and we got 3.8% of votes.']}\n",
            "{'Paper_Name': [['www.thehindu.com']], 'Article': ['He secured 51.5% vote percentage, but he was made to lose by EVMs,” he said.']}\n",
            "{'Paper_Name': [['www.thehindu.com']], 'Article': ['Across the 17 advanced economies we surveyed in 2021, a median of 61% say that their country is more divided than before the outbreak’.']}\n",
            "{'Paper_Name': [['www.thehindu.com']], 'Article': ['Currently lodged in jail, SP’s founding member won the Rampur constituency by securing almost 60% of the votes.']}\n",
            "{'Paper_Name': [['www.thehindu.com']], 'Article': ['Suheldev Bharatiya Samaj Party SBSP chief Om Prakash Rajbhar registered a victory in Zahoorabad constituency, winning over 46% votes.']}\n",
            "{'Paper_Name': [['www.thehindu.com']], 'Article': ['Congress State President Ajay Kumar Lallu contested from Tamukhi Raj and could only secure 14.78% votes in the constituency.']}\n",
            "{'Paper_Name': [['www.thehindu.com']], 'Article': ['Data further indicates that for 12%, removing the present government was what determined their vote.']}\n",
            "{'Paper_Name': [['www.thehindu.com']], 'Article': ['The Ram Mandir issue, which was believed to set the poll narrative in the State, found no resonance, with a mere 2% stating this as a voting issue.']}\n",
            "{'Paper_Name': [['www.thehindu.com']], 'Article': ['When offered specific options, from all the issue options that were read out to voters one by one, inflation and development 74% each followed by unemployment 71% emerged to be important issues Table 2.']}\n",
            "{'Paper_Name': [['www.thehindu.com']], 'Article': ['The issue of stray cattle, which became a key talking point during the campaign, was important for 60%.']}\n",
            "{'Paper_Name': [['www.thehindu.com']], 'Article': ['‘Development’ did make a huge difference: BJP secured 57% of votes of those for whom development was the single largest voting issue, SP+ was able to attract a quarter 26% of such voters.']}\n"
          ]
        }
      ]
    },
    {
      "cell_type": "code",
      "source": [
        "sample_dict = [\n",
        "{'Paper_Name': 'www.thehindu.com', 'Article': 'The Samajwadi Party SP-Rashtriya Lok Dal RLD alliance has fielded non-Muslim candidates in all six seats of the district, which has around 41% Muslim population.'},\n",
        "{'Paper_Name': 'www.thehindu.com', 'Article': 'polls was 60.44% as of 5 p.m., the EC said'},\n",
        "{'Paper_Name': 'www.thehindu.com', 'Article': 'The final voter turnout figures, which is expected to cross 80%, will come in only after the postal ballots are taken into account,” said Goa Chief Electoral Officer Kunal.'},\n",
        "{'Paper_Name': 'www.thehindu.com', 'Article': 'The State had recorded an 82.56% turnout during the 2017 elections.'},\n",
        "{'Paper_Name': 'www.thehindu.com', 'Article': 'In Uttarakhand, turnout for the 70-seat Assembly elections was around 62.5%, according to a statement by the Chief Electoral Officer’s office.'},\n",
        "{'Paper_Name': 'www.thehindu.com', 'Article': 'In 2017, the Uttarakhand polls had seen 64.72% turnout.'},\n",
        "{'Paper_Name': 'www.thehindu.com', 'Article': 'In U.P., the 55 seats that went to polls are mostly located in the Rohilkhand region with a substantial population of Muslims, above the State average of 19.5%.'},\n",
        "{'Paper_Name': 'www.thehindu.com', 'Article': 'In Goa, Chief Minister Pramod Sawant’s constituency Sanquelim saw the highest voter turnout at 89.64% — a jump of nearly five percentage points since the 2017 Assembly election.'},\n",
        "{'Paper_Name': 'www.thehindu.com', 'Article': 'The lowest turnout 70.2% was recorded in the Benaulim constituency, said Mr. Kunal, adding that the 19 seats in North Goa recorded a turnout of 79.8% while the 21 Assembly seats in South Goa witnessed a voter turnout of 78.15%'},\n",
        "{'Paper_Name': 'www.thehindu.com', 'Article': 'As of Friday, 95.8% of those eligible to vote had received both doses of the vaccine in Goa, 82.39% in Uttarakhand, 45.6% in Punjab, 44.8% in Manipur and 52% in U.P., he said.'},\n",
        "{'Paper_Name': 'www.thehindu.com', 'Article': 'Mr. Chandra said the EC also reviewed the weekly positivity rate, which was 0.24% in U.P., 1.01% in Uttarakhand, 2.1% in Punjab, 1.1% in Manipur and 13% in Manipur “because of the New Years’ parties by outsiders”, he said.'},\n",
        "{'Paper_Name': 'www.thehindu.com', 'Article': 'The announcement of polls came on the day the country’s daily positivity rate was 9.28% and active cases stood at 4.72 lakh, according to a Health and Family Welfare Ministry statement.'},\n",
        "{'Paper_Name': 'www.thehindu.com', 'Article': 'In terms of caste and community, the sharpest gender gap with respect to the BJP can be seen among the upper caste community where women supported the BJP in even greater proportion than the men 90% as opposed to 83%.'},\n",
        "{'Paper_Name': 'www.thehindu.com', 'Article': 'In Lokniti’s 2017 post-poll survey, 47% of women had said that they had taken someone’s advice before voting.'},\n",
        "{'Paper_Name': 'www.thehindu.com', 'Article': 'In this election, only 32% did.'},\n",
        "{'Paper_Name': 'www.thehindu.com', 'Article': 'It is also important to state that in the survey, women respondents were more likely to consider women candidates as being a very important voting consideration than men 47% vs 35% and yet women weren’t attracted towards the Congress which gave 40% tickets to women candidates.'},\n",
        "{'Paper_Name': 'www.thehindu.com', 'Article': 'The party lost almost 10% of its vote share from 2017 and was reduced to one seat.'},\n",
        "{'Paper_Name': 'www.thehindu.com', 'Article': 'Even if 50% of the State’s 19.5% Muslims had voted for the BSP, the Hindu voters, especially the Brahmins, who were unhappy with the BJP would have voted for the BSP, she noted.'},\n",
        "{'Paper_Name': 'www.thehindu.com', 'Article': 'in its national plan cannot be overstated — it contributes 20% of the party’s current strength in the Lok Sabha.'},\n",
        "{'Paper_Name': 'www.thehindu.com', 'Article': 'The party\\'s own assessment of data from the recent polls show that between the 2017 polls and the one in 2022, Congress, BSP and others lost 15% of vote share, and of this only 2.5% came to the BJP; the rest went to Samajwadi Party and its allies.'},\n",
        "{'Paper_Name': 'www.thehindu.com', 'Article': 'About 110 seats were lost with less than 10% of votes polled, of these 68 were won by the BJP and 33 by SP and its allies, a situation that is worrisome and requires remedy.'},\n",
        "{'Paper_Name': 'www.thehindu.com', 'Article': 'This was our first Assembly election in Uttarakhand and we got 3.8% of votes.'},\n",
        "{'Paper_Name': 'www.thehindu.com', 'Article': 'He secured 51.5% vote percentage, but he was made to lose by EVMs,” he said.'},\n",
        "{'Paper_Name': 'www.thehindu.com', 'Article': 'Across the 17 advanced economies we surveyed in 2021, a median of 61% say that their country is more divided than before the outbreak’.'},\n",
        "{'Paper_Name': 'www.thehindu.com', 'Article': 'Currently lodged in jail, SP’s founding member won the Rampur constituency by securing almost 60% of the votes.'},\n",
        "{'Paper_Name': 'www.thehindu.com', 'Article': 'Suheldev Bharatiya Samaj Party SBSP chief Om Prakash Rajbhar registered a victory in Zahoorabad constituency, winning over 46% votes.'},\n",
        "{'Paper_Name': 'www.thehindu.com', 'Article': 'Congress State President Ajay Kumar Lallu contested from Tamukhi Raj and could only secure 14.78% votes in the constituency.'},\n",
        "{'Paper_Name': 'www.thehindu.com', 'Article': 'Data further indicates that for 12%, removing the present government was what determined their vote.'},\n",
        "{'Paper_Name': 'www.thehindu.com', 'Article': 'The Ram Mandir issue, which was believed to set the poll narrative in the State, found no resonance, with a mere 2% stating this as a voting issue.'},\n",
        "{'Paper_Name': 'www.thehindu.com', 'Article': 'When offered specific options, from all the issue options that were read out to voters one by one, inflation and development 74% each followed by unemployment 71% emerged to be important issues Table 2.'},\n",
        "{'Paper_Name': 'www.thehindu.com', 'Article': 'The issue of stray cattle, which became a key talking point during the campaign, was important for 60%.'},\n",
        "{'Paper_Name': 'www.thehindu.com', 'Article': '‘Development’ did make a huge difference: BJP secured 57% of votes of those for whom development was the single largest voting issue, SP+ was able to attract a quarter 26% of such voters.'}\n",
        "]"
      ],
      "metadata": {
        "id": "vG613o5aSchR"
      },
      "execution_count": null,
      "outputs": []
    },
    {
      "cell_type": "code",
      "source": [
        "import csv"
      ],
      "metadata": {
        "id": "5FvVLus0XEpl"
      },
      "execution_count": null,
      "outputs": []
    },
    {
      "cell_type": "code",
      "source": [
        "col_name=[\"Paper_Name\",\"Article\"]\n",
        "with open(\"export.csv\", 'w') as csvFile:\n",
        "        wr = csv.DictWriter(csvFile, fieldnames=col_name)\n",
        "        wr.writeheader()\n",
        "        for ele in sample_dict:\n",
        "            wr.writerow(ele)"
      ],
      "metadata": {
        "id": "NvGj6OPrKdjt"
      },
      "execution_count": null,
      "outputs": []
    },
    {
      "cell_type": "code",
      "source": [
        "df = pd.read_csv('export.csv')\n",
        "df"
      ],
      "metadata": {
        "id": "uu9STMISFGvW",
        "colab": {
          "base_uri": "https://localhost:8080/",
          "height": 1000
        },
        "outputId": "c6d34fd9-5383-4b63-ea9c-f4a317902833"
      },
      "execution_count": null,
      "outputs": [
        {
          "output_type": "execute_result",
          "data": {
            "text/plain": [
              "          Paper_Name                                            Article\n",
              "0   www.thehindu.com  The Samajwadi Party SP-Rashtriya Lok Dal RLD a...\n",
              "1   www.thehindu.com         polls was 60.44% as of 5 p.m., the EC said\n",
              "2   www.thehindu.com  The final voter turnout figures, which is expe...\n",
              "3   www.thehindu.com  The State had recorded an 82.56% turnout durin...\n",
              "4   www.thehindu.com  In Uttarakhand, turnout for the 70-seat Assemb...\n",
              "5   www.thehindu.com  In 2017, the Uttarakhand polls had seen 64.72%...\n",
              "6   www.thehindu.com  In U.P., the 55 seats that went to polls are m...\n",
              "7   www.thehindu.com  In Goa, Chief Minister Pramod Sawant’s constit...\n",
              "8   www.thehindu.com  The lowest turnout 70.2% was recorded in the B...\n",
              "9   www.thehindu.com  As of Friday, 95.8% of those eligible to vote ...\n",
              "10  www.thehindu.com  Mr. Chandra said the EC also reviewed the week...\n",
              "11  www.thehindu.com  The announcement of polls came on the day the ...\n",
              "12  www.thehindu.com  In terms of caste and community, the sharpest ...\n",
              "13  www.thehindu.com  In Lokniti’s 2017 post-poll survey, 47% of wom...\n",
              "14  www.thehindu.com                    In this election, only 32% did.\n",
              "15  www.thehindu.com  It is also important to state that in the surv...\n",
              "16  www.thehindu.com  The party lost almost 10% of its vote share fr...\n",
              "17  www.thehindu.com  Even if 50% of the State’s 19.5% Muslims had v...\n",
              "18  www.thehindu.com  in its national plan cannot be overstated — it...\n",
              "19  www.thehindu.com  The party's own assessment of data from the re...\n",
              "20  www.thehindu.com  About 110 seats were lost with less than 10% o...\n",
              "21  www.thehindu.com  This was our first Assembly election in Uttara...\n",
              "22  www.thehindu.com  He secured 51.5% vote percentage, but he was m...\n",
              "23  www.thehindu.com  Across the 17 advanced economies we surveyed i...\n",
              "24  www.thehindu.com  Currently lodged in jail, SP’s founding member...\n",
              "25  www.thehindu.com  Suheldev Bharatiya Samaj Party SBSP chief Om P...\n",
              "26  www.thehindu.com  Congress State President Ajay Kumar Lallu cont...\n",
              "27  www.thehindu.com  Data further indicates that for 12%, removing ...\n",
              "28  www.thehindu.com  The Ram Mandir issue, which was believed to se...\n",
              "29  www.thehindu.com  When offered specific options, from all the is...\n",
              "30  www.thehindu.com  The issue of stray cattle, which became a key ...\n",
              "31  www.thehindu.com  ‘Development’ did make a huge difference: BJP ..."
            ],
            "text/html": [
              "\n",
              "  <div id=\"df-8811695d-05a5-43be-9e2c-d6c76b43b8d5\">\n",
              "    <div class=\"colab-df-container\">\n",
              "      <div>\n",
              "<style scoped>\n",
              "    .dataframe tbody tr th:only-of-type {\n",
              "        vertical-align: middle;\n",
              "    }\n",
              "\n",
              "    .dataframe tbody tr th {\n",
              "        vertical-align: top;\n",
              "    }\n",
              "\n",
              "    .dataframe thead th {\n",
              "        text-align: right;\n",
              "    }\n",
              "</style>\n",
              "<table border=\"1\" class=\"dataframe\">\n",
              "  <thead>\n",
              "    <tr style=\"text-align: right;\">\n",
              "      <th></th>\n",
              "      <th>Paper_Name</th>\n",
              "      <th>Article</th>\n",
              "    </tr>\n",
              "  </thead>\n",
              "  <tbody>\n",
              "    <tr>\n",
              "      <th>0</th>\n",
              "      <td>www.thehindu.com</td>\n",
              "      <td>The Samajwadi Party SP-Rashtriya Lok Dal RLD a...</td>\n",
              "    </tr>\n",
              "    <tr>\n",
              "      <th>1</th>\n",
              "      <td>www.thehindu.com</td>\n",
              "      <td>polls was 60.44% as of 5 p.m., the EC said</td>\n",
              "    </tr>\n",
              "    <tr>\n",
              "      <th>2</th>\n",
              "      <td>www.thehindu.com</td>\n",
              "      <td>The final voter turnout figures, which is expe...</td>\n",
              "    </tr>\n",
              "    <tr>\n",
              "      <th>3</th>\n",
              "      <td>www.thehindu.com</td>\n",
              "      <td>The State had recorded an 82.56% turnout durin...</td>\n",
              "    </tr>\n",
              "    <tr>\n",
              "      <th>4</th>\n",
              "      <td>www.thehindu.com</td>\n",
              "      <td>In Uttarakhand, turnout for the 70-seat Assemb...</td>\n",
              "    </tr>\n",
              "    <tr>\n",
              "      <th>5</th>\n",
              "      <td>www.thehindu.com</td>\n",
              "      <td>In 2017, the Uttarakhand polls had seen 64.72%...</td>\n",
              "    </tr>\n",
              "    <tr>\n",
              "      <th>6</th>\n",
              "      <td>www.thehindu.com</td>\n",
              "      <td>In U.P., the 55 seats that went to polls are m...</td>\n",
              "    </tr>\n",
              "    <tr>\n",
              "      <th>7</th>\n",
              "      <td>www.thehindu.com</td>\n",
              "      <td>In Goa, Chief Minister Pramod Sawant’s constit...</td>\n",
              "    </tr>\n",
              "    <tr>\n",
              "      <th>8</th>\n",
              "      <td>www.thehindu.com</td>\n",
              "      <td>The lowest turnout 70.2% was recorded in the B...</td>\n",
              "    </tr>\n",
              "    <tr>\n",
              "      <th>9</th>\n",
              "      <td>www.thehindu.com</td>\n",
              "      <td>As of Friday, 95.8% of those eligible to vote ...</td>\n",
              "    </tr>\n",
              "    <tr>\n",
              "      <th>10</th>\n",
              "      <td>www.thehindu.com</td>\n",
              "      <td>Mr. Chandra said the EC also reviewed the week...</td>\n",
              "    </tr>\n",
              "    <tr>\n",
              "      <th>11</th>\n",
              "      <td>www.thehindu.com</td>\n",
              "      <td>The announcement of polls came on the day the ...</td>\n",
              "    </tr>\n",
              "    <tr>\n",
              "      <th>12</th>\n",
              "      <td>www.thehindu.com</td>\n",
              "      <td>In terms of caste and community, the sharpest ...</td>\n",
              "    </tr>\n",
              "    <tr>\n",
              "      <th>13</th>\n",
              "      <td>www.thehindu.com</td>\n",
              "      <td>In Lokniti’s 2017 post-poll survey, 47% of wom...</td>\n",
              "    </tr>\n",
              "    <tr>\n",
              "      <th>14</th>\n",
              "      <td>www.thehindu.com</td>\n",
              "      <td>In this election, only 32% did.</td>\n",
              "    </tr>\n",
              "    <tr>\n",
              "      <th>15</th>\n",
              "      <td>www.thehindu.com</td>\n",
              "      <td>It is also important to state that in the surv...</td>\n",
              "    </tr>\n",
              "    <tr>\n",
              "      <th>16</th>\n",
              "      <td>www.thehindu.com</td>\n",
              "      <td>The party lost almost 10% of its vote share fr...</td>\n",
              "    </tr>\n",
              "    <tr>\n",
              "      <th>17</th>\n",
              "      <td>www.thehindu.com</td>\n",
              "      <td>Even if 50% of the State’s 19.5% Muslims had v...</td>\n",
              "    </tr>\n",
              "    <tr>\n",
              "      <th>18</th>\n",
              "      <td>www.thehindu.com</td>\n",
              "      <td>in its national plan cannot be overstated — it...</td>\n",
              "    </tr>\n",
              "    <tr>\n",
              "      <th>19</th>\n",
              "      <td>www.thehindu.com</td>\n",
              "      <td>The party's own assessment of data from the re...</td>\n",
              "    </tr>\n",
              "    <tr>\n",
              "      <th>20</th>\n",
              "      <td>www.thehindu.com</td>\n",
              "      <td>About 110 seats were lost with less than 10% o...</td>\n",
              "    </tr>\n",
              "    <tr>\n",
              "      <th>21</th>\n",
              "      <td>www.thehindu.com</td>\n",
              "      <td>This was our first Assembly election in Uttara...</td>\n",
              "    </tr>\n",
              "    <tr>\n",
              "      <th>22</th>\n",
              "      <td>www.thehindu.com</td>\n",
              "      <td>He secured 51.5% vote percentage, but he was m...</td>\n",
              "    </tr>\n",
              "    <tr>\n",
              "      <th>23</th>\n",
              "      <td>www.thehindu.com</td>\n",
              "      <td>Across the 17 advanced economies we surveyed i...</td>\n",
              "    </tr>\n",
              "    <tr>\n",
              "      <th>24</th>\n",
              "      <td>www.thehindu.com</td>\n",
              "      <td>Currently lodged in jail, SP’s founding member...</td>\n",
              "    </tr>\n",
              "    <tr>\n",
              "      <th>25</th>\n",
              "      <td>www.thehindu.com</td>\n",
              "      <td>Suheldev Bharatiya Samaj Party SBSP chief Om P...</td>\n",
              "    </tr>\n",
              "    <tr>\n",
              "      <th>26</th>\n",
              "      <td>www.thehindu.com</td>\n",
              "      <td>Congress State President Ajay Kumar Lallu cont...</td>\n",
              "    </tr>\n",
              "    <tr>\n",
              "      <th>27</th>\n",
              "      <td>www.thehindu.com</td>\n",
              "      <td>Data further indicates that for 12%, removing ...</td>\n",
              "    </tr>\n",
              "    <tr>\n",
              "      <th>28</th>\n",
              "      <td>www.thehindu.com</td>\n",
              "      <td>The Ram Mandir issue, which was believed to se...</td>\n",
              "    </tr>\n",
              "    <tr>\n",
              "      <th>29</th>\n",
              "      <td>www.thehindu.com</td>\n",
              "      <td>When offered specific options, from all the is...</td>\n",
              "    </tr>\n",
              "    <tr>\n",
              "      <th>30</th>\n",
              "      <td>www.thehindu.com</td>\n",
              "      <td>The issue of stray cattle, which became a key ...</td>\n",
              "    </tr>\n",
              "    <tr>\n",
              "      <th>31</th>\n",
              "      <td>www.thehindu.com</td>\n",
              "      <td>‘Development’ did make a huge difference: BJP ...</td>\n",
              "    </tr>\n",
              "  </tbody>\n",
              "</table>\n",
              "</div>\n",
              "      <button class=\"colab-df-convert\" onclick=\"convertToInteractive('df-8811695d-05a5-43be-9e2c-d6c76b43b8d5')\"\n",
              "              title=\"Convert this dataframe to an interactive table.\"\n",
              "              style=\"display:none;\">\n",
              "        \n",
              "  <svg xmlns=\"http://www.w3.org/2000/svg\" height=\"24px\"viewBox=\"0 0 24 24\"\n",
              "       width=\"24px\">\n",
              "    <path d=\"M0 0h24v24H0V0z\" fill=\"none\"/>\n",
              "    <path d=\"M18.56 5.44l.94 2.06.94-2.06 2.06-.94-2.06-.94-.94-2.06-.94 2.06-2.06.94zm-11 1L8.5 8.5l.94-2.06 2.06-.94-2.06-.94L8.5 2.5l-.94 2.06-2.06.94zm10 10l.94 2.06.94-2.06 2.06-.94-2.06-.94-.94-2.06-.94 2.06-2.06.94z\"/><path d=\"M17.41 7.96l-1.37-1.37c-.4-.4-.92-.59-1.43-.59-.52 0-1.04.2-1.43.59L10.3 9.45l-7.72 7.72c-.78.78-.78 2.05 0 2.83L4 21.41c.39.39.9.59 1.41.59.51 0 1.02-.2 1.41-.59l7.78-7.78 2.81-2.81c.8-.78.8-2.07 0-2.86zM5.41 20L4 18.59l7.72-7.72 1.47 1.35L5.41 20z\"/>\n",
              "  </svg>\n",
              "      </button>\n",
              "      \n",
              "  <style>\n",
              "    .colab-df-container {\n",
              "      display:flex;\n",
              "      flex-wrap:wrap;\n",
              "      gap: 12px;\n",
              "    }\n",
              "\n",
              "    .colab-df-convert {\n",
              "      background-color: #E8F0FE;\n",
              "      border: none;\n",
              "      border-radius: 50%;\n",
              "      cursor: pointer;\n",
              "      display: none;\n",
              "      fill: #1967D2;\n",
              "      height: 32px;\n",
              "      padding: 0 0 0 0;\n",
              "      width: 32px;\n",
              "    }\n",
              "\n",
              "    .colab-df-convert:hover {\n",
              "      background-color: #E2EBFA;\n",
              "      box-shadow: 0px 1px 2px rgba(60, 64, 67, 0.3), 0px 1px 3px 1px rgba(60, 64, 67, 0.15);\n",
              "      fill: #174EA6;\n",
              "    }\n",
              "\n",
              "    [theme=dark] .colab-df-convert {\n",
              "      background-color: #3B4455;\n",
              "      fill: #D2E3FC;\n",
              "    }\n",
              "\n",
              "    [theme=dark] .colab-df-convert:hover {\n",
              "      background-color: #434B5C;\n",
              "      box-shadow: 0px 1px 3px 1px rgba(0, 0, 0, 0.15);\n",
              "      filter: drop-shadow(0px 1px 2px rgba(0, 0, 0, 0.3));\n",
              "      fill: #FFFFFF;\n",
              "    }\n",
              "  </style>\n",
              "\n",
              "      <script>\n",
              "        const buttonEl =\n",
              "          document.querySelector('#df-8811695d-05a5-43be-9e2c-d6c76b43b8d5 button.colab-df-convert');\n",
              "        buttonEl.style.display =\n",
              "          google.colab.kernel.accessAllowed ? 'block' : 'none';\n",
              "\n",
              "        async function convertToInteractive(key) {\n",
              "          const element = document.querySelector('#df-8811695d-05a5-43be-9e2c-d6c76b43b8d5');\n",
              "          const dataTable =\n",
              "            await google.colab.kernel.invokeFunction('convertToInteractive',\n",
              "                                                     [key], {});\n",
              "          if (!dataTable) return;\n",
              "\n",
              "          const docLinkHtml = 'Like what you see? Visit the ' +\n",
              "            '<a target=\"_blank\" href=https://colab.research.google.com/notebooks/data_table.ipynb>data table notebook</a>'\n",
              "            + ' to learn more about interactive tables.';\n",
              "          element.innerHTML = '';\n",
              "          dataTable['output_type'] = 'display_data';\n",
              "          await google.colab.output.renderOutput(dataTable, element);\n",
              "          const docLink = document.createElement('div');\n",
              "          docLink.innerHTML = docLinkHtml;\n",
              "          element.appendChild(docLink);\n",
              "        }\n",
              "      </script>\n",
              "    </div>\n",
              "  </div>\n",
              "  "
            ]
          },
          "metadata": {},
          "execution_count": 8
        }
      ]
    },
    {
      "cell_type": "code",
      "source": [
        "df.all()\n",
        "\n"
      ],
      "metadata": {
        "id": "Tannr0KiFLgv",
        "colab": {
          "base_uri": "https://localhost:8080/"
        },
        "outputId": "ad7c61c1-1000-43ca-99be-447cf1ce067c"
      },
      "execution_count": null,
      "outputs": [
        {
          "output_type": "execute_result",
          "data": {
            "text/plain": [
              "Paper_Name    True\n",
              "Article       True\n",
              "dtype: bool"
            ]
          },
          "metadata": {},
          "execution_count": 9
        }
      ]
    },
    {
      "cell_type": "markdown",
      "source": [
        "# **SENTIMENT ANALYSIS**"
      ],
      "metadata": {
        "id": "m7fwvH090X-3"
      }
    },
    {
      "cell_type": "code",
      "source": [
        "df[\"Article\"]"
      ],
      "metadata": {
        "id": "_zWsJnL9bMna",
        "colab": {
          "base_uri": "https://localhost:8080/"
        },
        "outputId": "7f390d55-1de3-4468-d19f-39472525a7c6"
      },
      "execution_count": null,
      "outputs": [
        {
          "output_type": "execute_result",
          "data": {
            "text/plain": [
              "0     The Samajwadi Party SP-Rashtriya Lok Dal RLD a...\n",
              "1            polls was 60.44% as of 5 p.m., the EC said\n",
              "2     The final voter turnout figures, which is expe...\n",
              "3     The State had recorded an 82.56% turnout durin...\n",
              "4     In Uttarakhand, turnout for the 70-seat Assemb...\n",
              "5     In 2017, the Uttarakhand polls had seen 64.72%...\n",
              "6     In U.P., the 55 seats that went to polls are m...\n",
              "7     In Goa, Chief Minister Pramod Sawant’s constit...\n",
              "8     The lowest turnout 70.2% was recorded in the B...\n",
              "9     As of Friday, 95.8% of those eligible to vote ...\n",
              "10    Mr. Chandra said the EC also reviewed the week...\n",
              "11    The announcement of polls came on the day the ...\n",
              "12    In terms of caste and community, the sharpest ...\n",
              "13    In Lokniti’s 2017 post-poll survey, 47% of wom...\n",
              "14                      In this election, only 32% did.\n",
              "15    It is also important to state that in the surv...\n",
              "16    The party lost almost 10% of its vote share fr...\n",
              "17    Even if 50% of the State’s 19.5% Muslims had v...\n",
              "18    in its national plan cannot be overstated — it...\n",
              "19    The party's own assessment of data from the re...\n",
              "20    About 110 seats were lost with less than 10% o...\n",
              "21    This was our first Assembly election in Uttara...\n",
              "22    He secured 51.5% vote percentage, but he was m...\n",
              "23    Across the 17 advanced economies we surveyed i...\n",
              "24    Currently lodged in jail, SP’s founding member...\n",
              "25    Suheldev Bharatiya Samaj Party SBSP chief Om P...\n",
              "26    Congress State President Ajay Kumar Lallu cont...\n",
              "27    Data further indicates that for 12%, removing ...\n",
              "28    The Ram Mandir issue, which was believed to se...\n",
              "29    When offered specific options, from all the is...\n",
              "30    The issue of stray cattle, which became a key ...\n",
              "31    ‘Development’ did make a huge difference: BJP ...\n",
              "Name: Article, dtype: object"
            ]
          },
          "metadata": {},
          "execution_count": 10
        }
      ]
    },
    {
      "cell_type": "code",
      "source": [
        "pip install textblob"
      ],
      "metadata": {
        "id": "zyJayo3qXj9y",
        "colab": {
          "base_uri": "https://localhost:8080/"
        },
        "outputId": "12ccabad-e6d0-422e-83ef-17f5768eb62b"
      },
      "execution_count": null,
      "outputs": [
        {
          "output_type": "stream",
          "name": "stdout",
          "text": [
            "Looking in indexes: https://pypi.org/simple, https://us-python.pkg.dev/colab-wheels/public/simple/\n",
            "Requirement already satisfied: textblob in /usr/local/lib/python3.7/dist-packages (0.15.3)\n",
            "Requirement already satisfied: nltk>=3.1 in /usr/local/lib/python3.7/dist-packages (from textblob) (3.7)\n",
            "Requirement already satisfied: joblib in /usr/local/lib/python3.7/dist-packages (from nltk>=3.1->textblob) (1.1.0)\n",
            "Requirement already satisfied: regex>=2021.8.3 in /usr/local/lib/python3.7/dist-packages (from nltk>=3.1->textblob) (2022.6.2)\n",
            "Requirement already satisfied: tqdm in /usr/local/lib/python3.7/dist-packages (from nltk>=3.1->textblob) (4.64.0)\n",
            "Requirement already satisfied: click in /usr/local/lib/python3.7/dist-packages (from nltk>=3.1->textblob) (7.1.2)\n"
          ]
        }
      ]
    },
    {
      "cell_type": "code",
      "source": [
        "from textblob import TextBlob\n",
        "textblob_sentiment=[]\n",
        "for s in df[\"Article\"]:\n",
        "    txt= TextBlob(s)\n",
        "    a= txt.sentiment.polarity\n",
        "    b= txt.sentiment.subjectivity\n",
        "    textblob_sentiment.append([s,a,b])"
      ],
      "metadata": {
        "id": "-vQXkuMRbVJ9"
      },
      "execution_count": null,
      "outputs": []
    },
    {
      "cell_type": "code",
      "source": [
        "df_textblob = pd.DataFrame(textblob_sentiment, columns =['Sentence', 'Polarity', 'Subjectivity'])"
      ],
      "metadata": {
        "id": "3HL3jb0Vbixf"
      },
      "execution_count": null,
      "outputs": []
    },
    {
      "cell_type": "code",
      "source": [
        "df_textblob.head()"
      ],
      "metadata": {
        "colab": {
          "base_uri": "https://localhost:8080/",
          "height": 214
        },
        "id": "Ajt0UmU-E1Wf",
        "outputId": "f838af91-fedb-4ac8-9247-233073b9d72c"
      },
      "execution_count": null,
      "outputs": [
        {
          "output_type": "execute_result",
          "data": {
            "text/plain": [
              "                                            Sentence  Polarity  Subjectivity\n",
              "0  The Samajwadi Party SP-Rashtriya Lok Dal RLD a...     0.000           0.0\n",
              "1         polls was 60.44% as of 5 p.m., the EC said     0.000           0.0\n",
              "2  The final voter turnout figures, which is expe...    -0.025           0.6\n",
              "3  The State had recorded an 82.56% turnout durin...     0.000           0.0\n",
              "4  In Uttarakhand, turnout for the 70-seat Assemb...     0.000           0.0"
            ],
            "text/html": [
              "\n",
              "  <div id=\"df-57fe74ee-bd45-415a-b7e2-8f00402236c7\">\n",
              "    <div class=\"colab-df-container\">\n",
              "      <div>\n",
              "<style scoped>\n",
              "    .dataframe tbody tr th:only-of-type {\n",
              "        vertical-align: middle;\n",
              "    }\n",
              "\n",
              "    .dataframe tbody tr th {\n",
              "        vertical-align: top;\n",
              "    }\n",
              "\n",
              "    .dataframe thead th {\n",
              "        text-align: right;\n",
              "    }\n",
              "</style>\n",
              "<table border=\"1\" class=\"dataframe\">\n",
              "  <thead>\n",
              "    <tr style=\"text-align: right;\">\n",
              "      <th></th>\n",
              "      <th>Sentence</th>\n",
              "      <th>Polarity</th>\n",
              "      <th>Subjectivity</th>\n",
              "    </tr>\n",
              "  </thead>\n",
              "  <tbody>\n",
              "    <tr>\n",
              "      <th>0</th>\n",
              "      <td>The Samajwadi Party SP-Rashtriya Lok Dal RLD a...</td>\n",
              "      <td>0.000</td>\n",
              "      <td>0.0</td>\n",
              "    </tr>\n",
              "    <tr>\n",
              "      <th>1</th>\n",
              "      <td>polls was 60.44% as of 5 p.m., the EC said</td>\n",
              "      <td>0.000</td>\n",
              "      <td>0.0</td>\n",
              "    </tr>\n",
              "    <tr>\n",
              "      <th>2</th>\n",
              "      <td>The final voter turnout figures, which is expe...</td>\n",
              "      <td>-0.025</td>\n",
              "      <td>0.6</td>\n",
              "    </tr>\n",
              "    <tr>\n",
              "      <th>3</th>\n",
              "      <td>The State had recorded an 82.56% turnout durin...</td>\n",
              "      <td>0.000</td>\n",
              "      <td>0.0</td>\n",
              "    </tr>\n",
              "    <tr>\n",
              "      <th>4</th>\n",
              "      <td>In Uttarakhand, turnout for the 70-seat Assemb...</td>\n",
              "      <td>0.000</td>\n",
              "      <td>0.0</td>\n",
              "    </tr>\n",
              "  </tbody>\n",
              "</table>\n",
              "</div>\n",
              "      <button class=\"colab-df-convert\" onclick=\"convertToInteractive('df-57fe74ee-bd45-415a-b7e2-8f00402236c7')\"\n",
              "              title=\"Convert this dataframe to an interactive table.\"\n",
              "              style=\"display:none;\">\n",
              "        \n",
              "  <svg xmlns=\"http://www.w3.org/2000/svg\" height=\"24px\"viewBox=\"0 0 24 24\"\n",
              "       width=\"24px\">\n",
              "    <path d=\"M0 0h24v24H0V0z\" fill=\"none\"/>\n",
              "    <path d=\"M18.56 5.44l.94 2.06.94-2.06 2.06-.94-2.06-.94-.94-2.06-.94 2.06-2.06.94zm-11 1L8.5 8.5l.94-2.06 2.06-.94-2.06-.94L8.5 2.5l-.94 2.06-2.06.94zm10 10l.94 2.06.94-2.06 2.06-.94-2.06-.94-.94-2.06-.94 2.06-2.06.94z\"/><path d=\"M17.41 7.96l-1.37-1.37c-.4-.4-.92-.59-1.43-.59-.52 0-1.04.2-1.43.59L10.3 9.45l-7.72 7.72c-.78.78-.78 2.05 0 2.83L4 21.41c.39.39.9.59 1.41.59.51 0 1.02-.2 1.41-.59l7.78-7.78 2.81-2.81c.8-.78.8-2.07 0-2.86zM5.41 20L4 18.59l7.72-7.72 1.47 1.35L5.41 20z\"/>\n",
              "  </svg>\n",
              "      </button>\n",
              "      \n",
              "  <style>\n",
              "    .colab-df-container {\n",
              "      display:flex;\n",
              "      flex-wrap:wrap;\n",
              "      gap: 12px;\n",
              "    }\n",
              "\n",
              "    .colab-df-convert {\n",
              "      background-color: #E8F0FE;\n",
              "      border: none;\n",
              "      border-radius: 50%;\n",
              "      cursor: pointer;\n",
              "      display: none;\n",
              "      fill: #1967D2;\n",
              "      height: 32px;\n",
              "      padding: 0 0 0 0;\n",
              "      width: 32px;\n",
              "    }\n",
              "\n",
              "    .colab-df-convert:hover {\n",
              "      background-color: #E2EBFA;\n",
              "      box-shadow: 0px 1px 2px rgba(60, 64, 67, 0.3), 0px 1px 3px 1px rgba(60, 64, 67, 0.15);\n",
              "      fill: #174EA6;\n",
              "    }\n",
              "\n",
              "    [theme=dark] .colab-df-convert {\n",
              "      background-color: #3B4455;\n",
              "      fill: #D2E3FC;\n",
              "    }\n",
              "\n",
              "    [theme=dark] .colab-df-convert:hover {\n",
              "      background-color: #434B5C;\n",
              "      box-shadow: 0px 1px 3px 1px rgba(0, 0, 0, 0.15);\n",
              "      filter: drop-shadow(0px 1px 2px rgba(0, 0, 0, 0.3));\n",
              "      fill: #FFFFFF;\n",
              "    }\n",
              "  </style>\n",
              "\n",
              "      <script>\n",
              "        const buttonEl =\n",
              "          document.querySelector('#df-57fe74ee-bd45-415a-b7e2-8f00402236c7 button.colab-df-convert');\n",
              "        buttonEl.style.display =\n",
              "          google.colab.kernel.accessAllowed ? 'block' : 'none';\n",
              "\n",
              "        async function convertToInteractive(key) {\n",
              "          const element = document.querySelector('#df-57fe74ee-bd45-415a-b7e2-8f00402236c7');\n",
              "          const dataTable =\n",
              "            await google.colab.kernel.invokeFunction('convertToInteractive',\n",
              "                                                     [key], {});\n",
              "          if (!dataTable) return;\n",
              "\n",
              "          const docLinkHtml = 'Like what you see? Visit the ' +\n",
              "            '<a target=\"_blank\" href=https://colab.research.google.com/notebooks/data_table.ipynb>data table notebook</a>'\n",
              "            + ' to learn more about interactive tables.';\n",
              "          element.innerHTML = '';\n",
              "          dataTable['output_type'] = 'display_data';\n",
              "          await google.colab.output.renderOutput(dataTable, element);\n",
              "          const docLink = document.createElement('div');\n",
              "          docLink.innerHTML = docLinkHtml;\n",
              "          element.appendChild(docLink);\n",
              "        }\n",
              "      </script>\n",
              "    </div>\n",
              "  </div>\n",
              "  "
            ]
          },
          "metadata": {},
          "execution_count": 14
        }
      ]
    },
    {
      "cell_type": "code",
      "source": [
        "df_textblob"
      ],
      "metadata": {
        "id": "f_q0RyDiboyj",
        "colab": {
          "base_uri": "https://localhost:8080/",
          "height": 1000
        },
        "outputId": "7c39b921-3562-4651-d199-90aa91e1df66"
      },
      "execution_count": null,
      "outputs": [
        {
          "output_type": "execute_result",
          "data": {
            "text/plain": [
              "                                             Sentence  Polarity  Subjectivity\n",
              "0   The Samajwadi Party SP-Rashtriya Lok Dal RLD a...  0.000000      0.000000\n",
              "1          polls was 60.44% as of 5 p.m., the EC said  0.000000      0.000000\n",
              "2   The final voter turnout figures, which is expe... -0.025000      0.600000\n",
              "3   The State had recorded an 82.56% turnout durin...  0.000000      0.000000\n",
              "4   In Uttarakhand, turnout for the 70-seat Assemb...  0.000000      0.000000\n",
              "5   In 2017, the Uttarakhand polls had seen 64.72%...  0.000000      0.000000\n",
              "6   In U.P., the 55 seats that went to polls are m...  0.116667      0.333333\n",
              "7   In Goa, Chief Minister Pramod Sawant’s constit...  0.100000      0.400000\n",
              "8   The lowest turnout 70.2% was recorded in the B...  0.000000      0.000000\n",
              "9   As of Friday, 95.8% of those eligible to vote ...  0.000000      0.000000\n",
              "10  Mr. Chandra said the EC also reviewed the week...  0.136364      0.454545\n",
              "11  The announcement of polls came on the day the ... -0.066667      0.300000\n",
              "12  In terms of caste and community, the sharpest ...  0.250000      0.250000\n",
              "13  In Lokniti’s 2017 post-poll survey, 47% of wom...  0.000000      0.000000\n",
              "14                    In this election, only 32% did.  0.000000      1.000000\n",
              "15  It is also important to state that in the surv...  0.355000      0.875000\n",
              "16  The party lost almost 10% of its vote share fr...  0.000000      0.000000\n",
              "17  Even if 50% of the State’s 19.5% Muslims had v... -0.300000      0.950000\n",
              "18  in its national plan cannot be overstated — it...  0.000000      0.400000\n",
              "19  The party's own assessment of data from the re...  0.200000      0.750000\n",
              "20  About 110 seats were lost with less than 10% o... -0.166667      0.066667\n",
              "21  This was our first Assembly election in Uttara...  0.250000      0.333333\n",
              "22  He secured 51.5% vote percentage, but he was m...  0.000000      0.000000\n",
              "23  Across the 17 advanced economies we surveyed i...  0.450000      0.550000\n",
              "24  Currently lodged in jail, SP’s founding member... -0.050000      0.200000\n",
              "25  Suheldev Bharatiya Samaj Party SBSP chief Om P...  0.500000      0.750000\n",
              "26  Congress State President Ajay Kumar Lallu cont...  0.200000      0.800000\n",
              "27  Data further indicates that for 12%, removing ...  0.000000      0.250000\n",
              "28  The Ram Mandir issue, which was believed to se... -0.500000      0.500000\n",
              "29  When offered specific options, from all the is...  0.200000      0.562500\n",
              "30  The issue of stray cattle, which became a key ...  0.200000      1.000000\n",
              "31  ‘Development’ did make a huge difference: BJP ...  0.207143      0.559821"
            ],
            "text/html": [
              "\n",
              "  <div id=\"df-77c0c966-a616-446d-b757-678e01a0eeeb\">\n",
              "    <div class=\"colab-df-container\">\n",
              "      <div>\n",
              "<style scoped>\n",
              "    .dataframe tbody tr th:only-of-type {\n",
              "        vertical-align: middle;\n",
              "    }\n",
              "\n",
              "    .dataframe tbody tr th {\n",
              "        vertical-align: top;\n",
              "    }\n",
              "\n",
              "    .dataframe thead th {\n",
              "        text-align: right;\n",
              "    }\n",
              "</style>\n",
              "<table border=\"1\" class=\"dataframe\">\n",
              "  <thead>\n",
              "    <tr style=\"text-align: right;\">\n",
              "      <th></th>\n",
              "      <th>Sentence</th>\n",
              "      <th>Polarity</th>\n",
              "      <th>Subjectivity</th>\n",
              "    </tr>\n",
              "  </thead>\n",
              "  <tbody>\n",
              "    <tr>\n",
              "      <th>0</th>\n",
              "      <td>The Samajwadi Party SP-Rashtriya Lok Dal RLD a...</td>\n",
              "      <td>0.000000</td>\n",
              "      <td>0.000000</td>\n",
              "    </tr>\n",
              "    <tr>\n",
              "      <th>1</th>\n",
              "      <td>polls was 60.44% as of 5 p.m., the EC said</td>\n",
              "      <td>0.000000</td>\n",
              "      <td>0.000000</td>\n",
              "    </tr>\n",
              "    <tr>\n",
              "      <th>2</th>\n",
              "      <td>The final voter turnout figures, which is expe...</td>\n",
              "      <td>-0.025000</td>\n",
              "      <td>0.600000</td>\n",
              "    </tr>\n",
              "    <tr>\n",
              "      <th>3</th>\n",
              "      <td>The State had recorded an 82.56% turnout durin...</td>\n",
              "      <td>0.000000</td>\n",
              "      <td>0.000000</td>\n",
              "    </tr>\n",
              "    <tr>\n",
              "      <th>4</th>\n",
              "      <td>In Uttarakhand, turnout for the 70-seat Assemb...</td>\n",
              "      <td>0.000000</td>\n",
              "      <td>0.000000</td>\n",
              "    </tr>\n",
              "    <tr>\n",
              "      <th>5</th>\n",
              "      <td>In 2017, the Uttarakhand polls had seen 64.72%...</td>\n",
              "      <td>0.000000</td>\n",
              "      <td>0.000000</td>\n",
              "    </tr>\n",
              "    <tr>\n",
              "      <th>6</th>\n",
              "      <td>In U.P., the 55 seats that went to polls are m...</td>\n",
              "      <td>0.116667</td>\n",
              "      <td>0.333333</td>\n",
              "    </tr>\n",
              "    <tr>\n",
              "      <th>7</th>\n",
              "      <td>In Goa, Chief Minister Pramod Sawant’s constit...</td>\n",
              "      <td>0.100000</td>\n",
              "      <td>0.400000</td>\n",
              "    </tr>\n",
              "    <tr>\n",
              "      <th>8</th>\n",
              "      <td>The lowest turnout 70.2% was recorded in the B...</td>\n",
              "      <td>0.000000</td>\n",
              "      <td>0.000000</td>\n",
              "    </tr>\n",
              "    <tr>\n",
              "      <th>9</th>\n",
              "      <td>As of Friday, 95.8% of those eligible to vote ...</td>\n",
              "      <td>0.000000</td>\n",
              "      <td>0.000000</td>\n",
              "    </tr>\n",
              "    <tr>\n",
              "      <th>10</th>\n",
              "      <td>Mr. Chandra said the EC also reviewed the week...</td>\n",
              "      <td>0.136364</td>\n",
              "      <td>0.454545</td>\n",
              "    </tr>\n",
              "    <tr>\n",
              "      <th>11</th>\n",
              "      <td>The announcement of polls came on the day the ...</td>\n",
              "      <td>-0.066667</td>\n",
              "      <td>0.300000</td>\n",
              "    </tr>\n",
              "    <tr>\n",
              "      <th>12</th>\n",
              "      <td>In terms of caste and community, the sharpest ...</td>\n",
              "      <td>0.250000</td>\n",
              "      <td>0.250000</td>\n",
              "    </tr>\n",
              "    <tr>\n",
              "      <th>13</th>\n",
              "      <td>In Lokniti’s 2017 post-poll survey, 47% of wom...</td>\n",
              "      <td>0.000000</td>\n",
              "      <td>0.000000</td>\n",
              "    </tr>\n",
              "    <tr>\n",
              "      <th>14</th>\n",
              "      <td>In this election, only 32% did.</td>\n",
              "      <td>0.000000</td>\n",
              "      <td>1.000000</td>\n",
              "    </tr>\n",
              "    <tr>\n",
              "      <th>15</th>\n",
              "      <td>It is also important to state that in the surv...</td>\n",
              "      <td>0.355000</td>\n",
              "      <td>0.875000</td>\n",
              "    </tr>\n",
              "    <tr>\n",
              "      <th>16</th>\n",
              "      <td>The party lost almost 10% of its vote share fr...</td>\n",
              "      <td>0.000000</td>\n",
              "      <td>0.000000</td>\n",
              "    </tr>\n",
              "    <tr>\n",
              "      <th>17</th>\n",
              "      <td>Even if 50% of the State’s 19.5% Muslims had v...</td>\n",
              "      <td>-0.300000</td>\n",
              "      <td>0.950000</td>\n",
              "    </tr>\n",
              "    <tr>\n",
              "      <th>18</th>\n",
              "      <td>in its national plan cannot be overstated — it...</td>\n",
              "      <td>0.000000</td>\n",
              "      <td>0.400000</td>\n",
              "    </tr>\n",
              "    <tr>\n",
              "      <th>19</th>\n",
              "      <td>The party's own assessment of data from the re...</td>\n",
              "      <td>0.200000</td>\n",
              "      <td>0.750000</td>\n",
              "    </tr>\n",
              "    <tr>\n",
              "      <th>20</th>\n",
              "      <td>About 110 seats were lost with less than 10% o...</td>\n",
              "      <td>-0.166667</td>\n",
              "      <td>0.066667</td>\n",
              "    </tr>\n",
              "    <tr>\n",
              "      <th>21</th>\n",
              "      <td>This was our first Assembly election in Uttara...</td>\n",
              "      <td>0.250000</td>\n",
              "      <td>0.333333</td>\n",
              "    </tr>\n",
              "    <tr>\n",
              "      <th>22</th>\n",
              "      <td>He secured 51.5% vote percentage, but he was m...</td>\n",
              "      <td>0.000000</td>\n",
              "      <td>0.000000</td>\n",
              "    </tr>\n",
              "    <tr>\n",
              "      <th>23</th>\n",
              "      <td>Across the 17 advanced economies we surveyed i...</td>\n",
              "      <td>0.450000</td>\n",
              "      <td>0.550000</td>\n",
              "    </tr>\n",
              "    <tr>\n",
              "      <th>24</th>\n",
              "      <td>Currently lodged in jail, SP’s founding member...</td>\n",
              "      <td>-0.050000</td>\n",
              "      <td>0.200000</td>\n",
              "    </tr>\n",
              "    <tr>\n",
              "      <th>25</th>\n",
              "      <td>Suheldev Bharatiya Samaj Party SBSP chief Om P...</td>\n",
              "      <td>0.500000</td>\n",
              "      <td>0.750000</td>\n",
              "    </tr>\n",
              "    <tr>\n",
              "      <th>26</th>\n",
              "      <td>Congress State President Ajay Kumar Lallu cont...</td>\n",
              "      <td>0.200000</td>\n",
              "      <td>0.800000</td>\n",
              "    </tr>\n",
              "    <tr>\n",
              "      <th>27</th>\n",
              "      <td>Data further indicates that for 12%, removing ...</td>\n",
              "      <td>0.000000</td>\n",
              "      <td>0.250000</td>\n",
              "    </tr>\n",
              "    <tr>\n",
              "      <th>28</th>\n",
              "      <td>The Ram Mandir issue, which was believed to se...</td>\n",
              "      <td>-0.500000</td>\n",
              "      <td>0.500000</td>\n",
              "    </tr>\n",
              "    <tr>\n",
              "      <th>29</th>\n",
              "      <td>When offered specific options, from all the is...</td>\n",
              "      <td>0.200000</td>\n",
              "      <td>0.562500</td>\n",
              "    </tr>\n",
              "    <tr>\n",
              "      <th>30</th>\n",
              "      <td>The issue of stray cattle, which became a key ...</td>\n",
              "      <td>0.200000</td>\n",
              "      <td>1.000000</td>\n",
              "    </tr>\n",
              "    <tr>\n",
              "      <th>31</th>\n",
              "      <td>‘Development’ did make a huge difference: BJP ...</td>\n",
              "      <td>0.207143</td>\n",
              "      <td>0.559821</td>\n",
              "    </tr>\n",
              "  </tbody>\n",
              "</table>\n",
              "</div>\n",
              "      <button class=\"colab-df-convert\" onclick=\"convertToInteractive('df-77c0c966-a616-446d-b757-678e01a0eeeb')\"\n",
              "              title=\"Convert this dataframe to an interactive table.\"\n",
              "              style=\"display:none;\">\n",
              "        \n",
              "  <svg xmlns=\"http://www.w3.org/2000/svg\" height=\"24px\"viewBox=\"0 0 24 24\"\n",
              "       width=\"24px\">\n",
              "    <path d=\"M0 0h24v24H0V0z\" fill=\"none\"/>\n",
              "    <path d=\"M18.56 5.44l.94 2.06.94-2.06 2.06-.94-2.06-.94-.94-2.06-.94 2.06-2.06.94zm-11 1L8.5 8.5l.94-2.06 2.06-.94-2.06-.94L8.5 2.5l-.94 2.06-2.06.94zm10 10l.94 2.06.94-2.06 2.06-.94-2.06-.94-.94-2.06-.94 2.06-2.06.94z\"/><path d=\"M17.41 7.96l-1.37-1.37c-.4-.4-.92-.59-1.43-.59-.52 0-1.04.2-1.43.59L10.3 9.45l-7.72 7.72c-.78.78-.78 2.05 0 2.83L4 21.41c.39.39.9.59 1.41.59.51 0 1.02-.2 1.41-.59l7.78-7.78 2.81-2.81c.8-.78.8-2.07 0-2.86zM5.41 20L4 18.59l7.72-7.72 1.47 1.35L5.41 20z\"/>\n",
              "  </svg>\n",
              "      </button>\n",
              "      \n",
              "  <style>\n",
              "    .colab-df-container {\n",
              "      display:flex;\n",
              "      flex-wrap:wrap;\n",
              "      gap: 12px;\n",
              "    }\n",
              "\n",
              "    .colab-df-convert {\n",
              "      background-color: #E8F0FE;\n",
              "      border: none;\n",
              "      border-radius: 50%;\n",
              "      cursor: pointer;\n",
              "      display: none;\n",
              "      fill: #1967D2;\n",
              "      height: 32px;\n",
              "      padding: 0 0 0 0;\n",
              "      width: 32px;\n",
              "    }\n",
              "\n",
              "    .colab-df-convert:hover {\n",
              "      background-color: #E2EBFA;\n",
              "      box-shadow: 0px 1px 2px rgba(60, 64, 67, 0.3), 0px 1px 3px 1px rgba(60, 64, 67, 0.15);\n",
              "      fill: #174EA6;\n",
              "    }\n",
              "\n",
              "    [theme=dark] .colab-df-convert {\n",
              "      background-color: #3B4455;\n",
              "      fill: #D2E3FC;\n",
              "    }\n",
              "\n",
              "    [theme=dark] .colab-df-convert:hover {\n",
              "      background-color: #434B5C;\n",
              "      box-shadow: 0px 1px 3px 1px rgba(0, 0, 0, 0.15);\n",
              "      filter: drop-shadow(0px 1px 2px rgba(0, 0, 0, 0.3));\n",
              "      fill: #FFFFFF;\n",
              "    }\n",
              "  </style>\n",
              "\n",
              "      <script>\n",
              "        const buttonEl =\n",
              "          document.querySelector('#df-77c0c966-a616-446d-b757-678e01a0eeeb button.colab-df-convert');\n",
              "        buttonEl.style.display =\n",
              "          google.colab.kernel.accessAllowed ? 'block' : 'none';\n",
              "\n",
              "        async function convertToInteractive(key) {\n",
              "          const element = document.querySelector('#df-77c0c966-a616-446d-b757-678e01a0eeeb');\n",
              "          const dataTable =\n",
              "            await google.colab.kernel.invokeFunction('convertToInteractive',\n",
              "                                                     [key], {});\n",
              "          if (!dataTable) return;\n",
              "\n",
              "          const docLinkHtml = 'Like what you see? Visit the ' +\n",
              "            '<a target=\"_blank\" href=https://colab.research.google.com/notebooks/data_table.ipynb>data table notebook</a>'\n",
              "            + ' to learn more about interactive tables.';\n",
              "          element.innerHTML = '';\n",
              "          dataTable['output_type'] = 'display_data';\n",
              "          await google.colab.output.renderOutput(dataTable, element);\n",
              "          const docLink = document.createElement('div');\n",
              "          docLink.innerHTML = docLinkHtml;\n",
              "          element.appendChild(docLink);\n",
              "        }\n",
              "      </script>\n",
              "    </div>\n",
              "  </div>\n",
              "  "
            ]
          },
          "metadata": {},
          "execution_count": 14
        }
      ]
    },
    {
      "cell_type": "code",
      "source": [
        "df_textblob.info()"
      ],
      "metadata": {
        "id": "JDutiFeG0V3I",
        "colab": {
          "base_uri": "https://localhost:8080/"
        },
        "outputId": "82d1ed25-4fd0-47ff-a5c1-8faf9072c93a"
      },
      "execution_count": null,
      "outputs": [
        {
          "output_type": "stream",
          "name": "stdout",
          "text": [
            "<class 'pandas.core.frame.DataFrame'>\n",
            "RangeIndex: 32 entries, 0 to 31\n",
            "Data columns (total 3 columns):\n",
            " #   Column        Non-Null Count  Dtype  \n",
            "---  ------        --------------  -----  \n",
            " 0   Sentence      32 non-null     object \n",
            " 1   Polarity      32 non-null     float64\n",
            " 2   Subjectivity  32 non-null     float64\n",
            "dtypes: float64(2), object(1)\n",
            "memory usage: 896.0+ bytes\n"
          ]
        }
      ]
    },
    {
      "cell_type": "code",
      "source": [
        "pip install -U statsmodels"
      ],
      "metadata": {
        "id": "3DJqrnFJcgfs",
        "colab": {
          "base_uri": "https://localhost:8080/"
        },
        "outputId": "d5fdcb02-9bda-4da7-fdde-da0b2d5feea5"
      },
      "execution_count": null,
      "outputs": [
        {
          "output_type": "stream",
          "name": "stdout",
          "text": [
            "Looking in indexes: https://pypi.org/simple, https://us-python.pkg.dev/colab-wheels/public/simple/\n",
            "Requirement already satisfied: statsmodels in /usr/local/lib/python3.7/dist-packages (0.10.2)\n",
            "Collecting statsmodels\n",
            "  Downloading statsmodels-0.13.2-cp37-cp37m-manylinux_2_17_x86_64.manylinux2014_x86_64.whl (9.8 MB)\n",
            "\u001b[K     |████████████████████████████████| 9.8 MB 4.0 MB/s \n",
            "\u001b[?25hRequirement already satisfied: packaging>=21.3 in /usr/local/lib/python3.7/dist-packages (from statsmodels) (21.3)\n",
            "Requirement already satisfied: numpy>=1.17 in /usr/local/lib/python3.7/dist-packages (from statsmodels) (1.21.6)\n",
            "Requirement already satisfied: scipy>=1.3 in /usr/local/lib/python3.7/dist-packages (from statsmodels) (1.4.1)\n",
            "Requirement already satisfied: pandas>=0.25 in /usr/local/lib/python3.7/dist-packages (from statsmodels) (1.3.5)\n",
            "Requirement already satisfied: patsy>=0.5.2 in /usr/local/lib/python3.7/dist-packages (from statsmodels) (0.5.2)\n",
            "Requirement already satisfied: pyparsing!=3.0.5,>=2.0.2 in /usr/local/lib/python3.7/dist-packages (from packaging>=21.3->statsmodels) (3.0.9)\n",
            "Requirement already satisfied: python-dateutil>=2.7.3 in /usr/local/lib/python3.7/dist-packages (from pandas>=0.25->statsmodels) (2.8.2)\n",
            "Requirement already satisfied: pytz>=2017.3 in /usr/local/lib/python3.7/dist-packages (from pandas>=0.25->statsmodels) (2022.1)\n",
            "Requirement already satisfied: six in /usr/local/lib/python3.7/dist-packages (from patsy>=0.5.2->statsmodels) (1.15.0)\n",
            "Installing collected packages: statsmodels\n",
            "  Attempting uninstall: statsmodels\n",
            "    Found existing installation: statsmodels 0.10.2\n",
            "    Uninstalling statsmodels-0.10.2:\n",
            "      Successfully uninstalled statsmodels-0.10.2\n",
            "Successfully installed statsmodels-0.13.2\n"
          ]
        }
      ]
    },
    {
      "cell_type": "code",
      "source": [
        "import seaborn as sns\n",
        "import matplotlib.pyplot as plt\n",
        "sns.displot(df_textblob[\"Polarity\"], height= 5, aspect=1.8)\n",
        "plt.xlabel(\"Sentence Polarity (Textblob)\")"
      ],
      "metadata": {
        "id": "fydW2CIT6vjB",
        "colab": {
          "base_uri": "https://localhost:8080/",
          "height": 387
        },
        "outputId": "e2260ce7-9556-407b-882a-971d7fd8725f"
      },
      "execution_count": null,
      "outputs": [
        {
          "output_type": "execute_result",
          "data": {
            "text/plain": [
              "Text(0.5, 6.79999999999999, 'Sentence Polarity (Textblob)')"
            ]
          },
          "metadata": {},
          "execution_count": 17
        },
        {
          "output_type": "display_data",
          "data": {
            "text/plain": [
              "<Figure size 648x360 with 1 Axes>"
            ],
            "image/png": "[encoded data removed]"
          },
          "metadata": {
            "needs_background": "light"
          }
        }
      ]
    },
    {
      "cell_type": "code",
      "source": [
        "sns.displot(df_textblob[\"Subjectivity\"], height= 5, aspect=1.8)\n",
        "plt.xlabel(\"Sentence Subjectivity (Textblob)\")"
      ],
      "metadata": {
        "id": "1cl2izj2YrvT",
        "colab": {
          "base_uri": "https://localhost:8080/",
          "height": 387
        },
        "outputId": "4ddecad3-491b-40f9-8569-b5c849209fcb"
      },
      "execution_count": null,
      "outputs": [
        {
          "output_type": "execute_result",
          "data": {
            "text/plain": [
              "Text(0.5, 6.79999999999999, 'Sentence Subjectivity (Textblob)')"
            ]
          },
          "metadata": {},
          "execution_count": 18
        },
        {
          "output_type": "display_data",
          "data": {
            "text/plain": [
              "<Figure size 648x360 with 1 Axes>"
            ],
            "image/png": "[encoded data removed]"
          },
          "metadata": {
            "needs_background": "light"
          }
        }
      ]
    },
    {
      "cell_type": "markdown",
      "source": [
        "# **Word Frequency and Word Cloud**"
      ],
      "metadata": {
        "id": "hjyv4QPJdLEz"
      }
    },
    {
      "cell_type": "code",
      "source": [
        "#Creating the tokenizer\n",
        "tokenizer = nltk.tokenize.RegexpTokenizer('\\w+|\\$[\\d\\.]+|\\S+')"
      ],
      "metadata": {
        "id": "RFrQbDNEdKiN"
      },
      "execution_count": null,
      "outputs": []
    },
    {
      "cell_type": "code",
      "source": [
        "df_textblob[\"Sentence\"] = df_textblob[\"Sentence\"].values.astype(str)\n"
      ],
      "metadata": {
        "id": "Ewk6Mk-jeLb6"
      },
      "execution_count": null,
      "outputs": []
    },
    {
      "cell_type": "code",
      "source": [
        "len(df_textblob[\"Sentence\"])"
      ],
      "metadata": {
        "id": "VLIXsWcDh3rL",
        "colab": {
          "base_uri": "https://localhost:8080/"
        },
        "outputId": "c3b375aa-0602-4add-cc4f-e9f3920a5da0"
      },
      "execution_count": null,
      "outputs": [
        {
          "output_type": "execute_result",
          "data": {
            "text/plain": [
              "32"
            ]
          },
          "metadata": {},
          "execution_count": 21
        }
      ]
    },
    {
      "cell_type": "code",
      "source": [
        "#Tokenizing the text\n",
        "tokens = tokenizer.tokenize(df_textblob[\"Sentence\"][0]) #change integer value for different news\n",
        "tokens"
      ],
      "metadata": {
        "id": "yZKJxZocdQIS",
        "colab": {
          "base_uri": "https://localhost:8080/"
        },
        "outputId": "db665920-efa2-4db1-e1f9-05a76382c838"
      },
      "execution_count": null,
      "outputs": [
        {
          "output_type": "execute_result",
          "data": {
            "text/plain": [
              "['The',\n",
              " 'Samajwadi',\n",
              " 'Party',\n",
              " 'SP',\n",
              " '-Rashtriya',\n",
              " 'Lok',\n",
              " 'Dal',\n",
              " 'RLD',\n",
              " 'alliance',\n",
              " 'has',\n",
              " 'fielded',\n",
              " 'non',\n",
              " '-Muslim',\n",
              " 'candidates',\n",
              " 'in',\n",
              " 'all',\n",
              " 'six',\n",
              " 'seats',\n",
              " 'of',\n",
              " 'the',\n",
              " 'district',\n",
              " ',',\n",
              " 'which',\n",
              " 'has',\n",
              " 'around',\n",
              " '41',\n",
              " '%',\n",
              " 'Muslim',\n",
              " 'population',\n",
              " '.']"
            ]
          },
          "metadata": {},
          "execution_count": 22
        }
      ]
    },
    {
      "cell_type": "code",
      "source": [
        "len(tokens)"
      ],
      "metadata": {
        "id": "dg3P_JScdVJk",
        "colab": {
          "base_uri": "https://localhost:8080/"
        },
        "outputId": "3a1eaa27-852a-40ff-f094-e7047a27a04e"
      },
      "execution_count": null,
      "outputs": [
        {
          "output_type": "execute_result",
          "data": {
            "text/plain": [
              "30"
            ]
          },
          "metadata": {},
          "execution_count": 23
        }
      ]
    },
    {
      "cell_type": "code",
      "source": [
        "words = []\n",
        "# Looping through the tokens and make them lower case\n",
        "for word in tokens:\n",
        "    words.append(word.lower())"
      ],
      "metadata": {
        "id": "NOucW5G-dztE"
      },
      "execution_count": null,
      "outputs": []
    },
    {
      "cell_type": "code",
      "source": [
        "import nltk\n",
        "nltk.download('stopwords')\n",
        "stopwords = nltk.corpus.stopwords.words('english')"
      ],
      "metadata": {
        "id": "TEcGdNMegCmK",
        "colab": {
          "base_uri": "https://localhost:8080/"
        },
        "outputId": "9836bc06-179e-4d79-9221-3692d6c11b50"
      },
      "execution_count": null,
      "outputs": [
        {
          "output_type": "stream",
          "name": "stderr",
          "text": [
            "[nltk_data] Downloading package stopwords to /root/nltk_data...\n",
            "[nltk_data]   Unzipping corpora/stopwords.zip.\n"
          ]
        }
      ]
    },
    {
      "cell_type": "code",
      "source": [
        "words_new=[]\n",
        "for word in words:\n",
        "    if word not in stopwords:\n",
        "        words_new.append(word)"
      ],
      "metadata": {
        "id": "1Cnj-pxUgVWc"
      },
      "execution_count": null,
      "outputs": []
    },
    {
      "cell_type": "code",
      "source": [
        "len(words_new)"
      ],
      "metadata": {
        "id": "hfMMx5tlhDpH",
        "colab": {
          "base_uri": "https://localhost:8080/"
        },
        "outputId": "d22ee661-fbf4-4494-d456-df4275decb5f"
      },
      "execution_count": null,
      "outputs": [
        {
          "output_type": "execute_result",
          "data": {
            "text/plain": [
              "22"
            ]
          },
          "metadata": {},
          "execution_count": 27
        }
      ]
    },
    {
      "cell_type": "code",
      "source": [
        "print(words_new[0:10])"
      ],
      "metadata": {
        "id": "QygXqjqShG2o",
        "colab": {
          "base_uri": "https://localhost:8080/"
        },
        "outputId": "60fd0463-9fb2-4265-ca6e-3910f7880144"
      },
      "execution_count": null,
      "outputs": [
        {
          "output_type": "stream",
          "name": "stdout",
          "text": [
            "['samajwadi', 'party', 'sp', '-rashtriya', 'lok', 'dal', 'rld', 'alliance', 'fielded', 'non']\n"
          ]
        }
      ]
    },
    {
      "cell_type": "code",
      "source": [
        "#The frequency distribution of the words\n",
        "freq_dist = nltk.FreqDist(words_new)"
      ],
      "metadata": {
        "id": "0ts0el9BhLPt"
      },
      "execution_count": null,
      "outputs": []
    },
    {
      "cell_type": "code",
      "source": [
        "#Frequency Distribution Plot\n",
        "plt.subplots(figsize=(16,10))\n",
        "freq_dist.plot(20)"
      ],
      "metadata": {
        "id": "zvXeYufQhPHW",
        "colab": {
          "base_uri": "https://localhost:8080/",
          "height": 669
        },
        "outputId": "e579d8b1-bca5-42e5-ad0b-1345a46034b0"
      },
      "execution_count": null,
      "outputs": [
        {
          "output_type": "display_data",
          "data": {
            "text/plain": [
              "<Figure size 1152x720 with 1 Axes>"
            ],
            "image/png": "[encoded data removed]"
          },
          "metadata": {
            "needs_background": "light"
          }
        },
        {
          "output_type": "execute_result",
          "data": {
            "text/plain": [
              "<matplotlib.axes._subplots.AxesSubplot at 0x7f894dfbb2d0>"
            ]
          },
          "metadata": {},
          "execution_count": 30
        }
      ]
    },
    {
      "cell_type": "code",
      "source": [
        "#converting into string\n",
        "res=' '.join([i for i in words_new if not i.isdigit()])"
      ],
      "metadata": {
        "id": "vy9H0zx5hWqs"
      },
      "execution_count": null,
      "outputs": []
    },
    {
      "cell_type": "code",
      "source": [
        "from wordcloud import WordCloud \n",
        "plt.subplots(figsize=(16,10))\n",
        "wordcloud = WordCloud(\n",
        "                          background_color='black',\n",
        "                          max_words=100,\n",
        "                          width=1400,\n",
        "                          height=1200\n",
        "                         ).generate(res)\n",
        "plt.imshow(wordcloud)\n",
        "plt.title('NEWS ARTICLE (100 words)')\n",
        "plt.axis('off')\n",
        "plt.show()"
      ],
      "metadata": {
        "id": "GA7rIHyAhZ8N",
        "colab": {
          "base_uri": "https://localhost:8080/",
          "height": 591
        },
        "outputId": "78f97e9d-3f02-4c93-90ef-284825acb586"
      },
      "execution_count": null,
      "outputs": [
        {
          "output_type": "display_data",
          "data": {
            "text/plain": [
              "<Figure size 1152x720 with 1 Axes>"
            ],
            "image/png": "[encoded data removed]"
          },
          "metadata": {
            "needs_background": "light"
          }
        }
      ]
    }
  ]
}